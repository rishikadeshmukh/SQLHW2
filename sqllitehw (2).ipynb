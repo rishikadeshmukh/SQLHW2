{
  "nbformat": 4,
  "nbformat_minor": 0,
  "metadata": {
    "colab": {
      "provenance": []
    },
    "kernelspec": {
      "name": "python3",
      "display_name": "Python 3"
    },
    "language_info": {
      "name": "python"
    }
  },
  "cells": [
    {
      "cell_type": "code",
      "execution_count": 11,
      "metadata": {
        "id": "jnzPNv1zVlos"
      },
      "outputs": [],
      "source": [
        "import sqlite3\n",
        "import pandas as pd\n",
        "import matplotlib.pyplot as plt\n",
        "\n",
        "# Create or connect to an SQLite database\n",
        "connection = sqlite3.connect('student_grades.db')\n",
        "cursor = connection.cursor()\n",
        "\n",
        "cursor.execute('''\n",
        "    CREATE TABLE IF NOT EXISTS students (\n",
        "        student_id INTEGER PRIMARY KEY AUTOINCREMENT,\n",
        "        first_name TEXT,\n",
        "        last_name TEXT\n",
        "    )\n",
        "''')\n",
        "\n",
        "cursor.execute('''\n",
        "    CREATE TABLE IF NOT EXISTS grades (\n",
        "        grade_id INTEGER PRIMARY KEY AUTOINCREMENT,\n",
        "        student_id INTEGER,\n",
        "        subject TEXT,\n",
        "        grade INTEGER,\n",
        "        FOREIGN KEY (student_id) REFERENCES students (student_id)\n",
        "    )\n",
        "''')\n",
        "\n",
        "students = [\n",
        "    ('John', 'Doe'),\n",
        "    ('Jane', 'Smith'),\n",
        "    ('Alice', 'Johnson'),\n",
        "    ('Bob', 'Brown'),\n",
        "    ('Eve', 'Davis')\n",
        "]\n",
        "\n",
        "cursor.executemany('''\n",
        "    INSERT INTO students (first_name, last_name)\n",
        "    VALUES (?, ?)\n",
        "''', students)\n",
        "\n",
        "# Insert data into the 'grades' table\n",
        "grades = [\n",
        "    (1, 'Math', 85),\n",
        "    (1, 'Physics', 90),\n",
        "    (1, 'Chemistry', 88),\n",
        "    (2, 'Math', 92),\n",
        "    (2, 'Physics', 87),\n",
        "    (2, 'Chemistry', 91),\n",
        "    (3, 'Math', 78),\n",
        "    (3, 'Physics', 83),\n",
        "    (3, 'Chemistry', 80),\n",
        "    (4, 'Math', 88),\n",
        "    (4, 'Physics', 85),\n",
        "    (4, 'Chemistry', 87),\n",
        "    (5, 'Math', 95),\n",
        "    (5, 'Physics', 92),\n",
        "    (5, 'Chemistry', 94)\n",
        "]\n",
        "\n",
        "cursor.executemany('''\n",
        "    INSERT INTO grades (student_id, subject, grade)\n",
        "    VALUES (?, ?, ?)\n",
        "''', grades)\n",
        "\n",
        "\n",
        "\n",
        "connection.commit()\n"
      ]
    },
    {
      "cell_type": "code",
      "source": [
        "#query 1\n",
        "cursor.execute('''SELECT students.first_name, students.last_name, grades.grade\n",
        "FROM students\n",
        "JOIN grades ON students.student_id = grades.student_id''')\n",
        "\n",
        "studentgrade = cursor.fetchall()\n",
        "print(f\"Students and grades: {studentgrade}\")"
      ],
      "metadata": {
        "colab": {
          "base_uri": "https://localhost:8080/"
        },
        "id": "EQBSMVHzgPg5",
        "outputId": "ca49636b-8437-4cf9-d3f0-aa7d9fda4558"
      },
      "execution_count": 8,
      "outputs": [
        {
          "output_type": "stream",
          "name": "stdout",
          "text": [
            "Students and grades: [('John', 'Doe', 85), ('John', 'Doe', 90), ('John', 'Doe', 88), ('Jane', 'Smith', 92), ('Jane', 'Smith', 87), ('Jane', 'Smith', 91), ('Alice', 'Johnson', 78), ('Alice', 'Johnson', 83), ('Alice', 'Johnson', 80), ('Bob', 'Brown', 88), ('Bob', 'Brown', 85), ('Bob', 'Brown', 87), ('Eve', 'Davis', 95), ('Eve', 'Davis', 92), ('Eve', 'Davis', 94), ('John', 'Doe', 85), ('John', 'Doe', 90), ('John', 'Doe', 88), ('Jane', 'Smith', 92), ('Jane', 'Smith', 87), ('Jane', 'Smith', 91), ('Alice', 'Johnson', 78), ('Alice', 'Johnson', 83), ('Alice', 'Johnson', 80), ('Bob', 'Brown', 88), ('Bob', 'Brown', 85), ('Bob', 'Brown', 87), ('Eve', 'Davis', 95), ('Eve', 'Davis', 92), ('Eve', 'Davis', 94), ('John', 'Doe', 85), ('John', 'Doe', 90), ('John', 'Doe', 88), ('Jane', 'Smith', 92), ('Jane', 'Smith', 87), ('Jane', 'Smith', 91), ('Alice', 'Johnson', 78), ('Alice', 'Johnson', 83), ('Alice', 'Johnson', 80), ('Bob', 'Brown', 88), ('Bob', 'Brown', 85), ('Bob', 'Brown', 87), ('Eve', 'Davis', 95), ('Eve', 'Davis', 92), ('Eve', 'Davis', 94), ('John', 'Doe', 85), ('John', 'Doe', 90), ('John', 'Doe', 88), ('Jane', 'Smith', 92), ('Jane', 'Smith', 87), ('Jane', 'Smith', 91), ('Alice', 'Johnson', 78), ('Alice', 'Johnson', 83), ('Alice', 'Johnson', 80), ('Bob', 'Brown', 88), ('Bob', 'Brown', 85), ('Bob', 'Brown', 87), ('Eve', 'Davis', 95), ('Eve', 'Davis', 92), ('Eve', 'Davis', 94)]\n"
          ]
        }
      ]
    },
    {
      "cell_type": "code",
      "source": [
        "#query 2\n",
        "cursor.execute('''SELECT students.first_name, students.last_name, AVG(grades.grade) AS average_grade\n",
        "FROM students\n",
        "JOIN grades ON students.student_id = grades.student_id\n",
        "GROUP BY students.student_id''')\n",
        "\n",
        "avggrade = cursor.fetchall()\n",
        "\n",
        "print(f\"Average grade per student: {avggrade}\")"
      ],
      "metadata": {
        "colab": {
          "base_uri": "https://localhost:8080/"
        },
        "id": "p3iX9nXkgg15",
        "outputId": "16e61bca-9b4a-4ef2-b929-0be69942e1ff"
      },
      "execution_count": 9,
      "outputs": [
        {
          "output_type": "stream",
          "name": "stdout",
          "text": [
            "Average grade per student: [('John', 'Doe', 87.66666666666667), ('Jane', 'Smith', 90.0), ('Alice', 'Johnson', 80.33333333333333), ('Bob', 'Brown', 86.66666666666667), ('Eve', 'Davis', 93.66666666666667)]\n"
          ]
        }
      ]
    },
    {
      "cell_type": "code",
      "source": [
        "# query 3\n",
        "cursor.execute('''SELECT students.first_name, students.last_name, AVG(grades.grade) AS average_grade\n",
        "FROM students\n",
        "JOIN grades ON students.student_id = grades.student_id\n",
        "GROUP BY students.student_id\n",
        "ORDER BY average_grade DESC\n",
        "LIMIT 1 ''')\n",
        "\n",
        "highstudent = cursor.fetchall()\n",
        "\n",
        "print(f\"Highest Average Grade Student: {highstudent}\")"
      ],
      "metadata": {
        "id": "5K1Q34WwhT6l"
      },
      "execution_count": null,
      "outputs": []
    },
    {
      "cell_type": "code",
      "source": [
        "#query 4\n",
        "cursor.execute('''SELECT AVG(grades.grade) AS average_math_grade\n",
        "FROM grades\n",
        "WHERE grades.subject = 'Math' ''')\n",
        "\n",
        "avgmath = cursor.fetchall()\n",
        "\n",
        "print(f\"Average grade for Math: {avgmath}\")"
      ],
      "metadata": {
        "colab": {
          "base_uri": "https://localhost:8080/"
        },
        "id": "dz5u19yhhYwW",
        "outputId": "e81e1308-c774-493f-8d48-e49b0310659a"
      },
      "execution_count": 12,
      "outputs": [
        {
          "output_type": "stream",
          "name": "stdout",
          "text": [
            "Average grade for Math: [(87.6,)]\n"
          ]
        }
      ]
    },
    {
      "cell_type": "code",
      "source": [
        "#query 5\n",
        "cursor.execute('''SELECT students.first_name, students.last_name, grades.subject, grades.grade\n",
        "FROM students\n",
        "JOIN grades ON students.student_id = grades.student_id\n",
        "WHERE grades.grade > 90''')\n",
        "\n",
        "above90 = cursor.fetchall()\n",
        "\n",
        "print(f\"Students who scored above 90 in any subject: {above90} \")"
      ],
      "metadata": {
        "colab": {
          "base_uri": "https://localhost:8080/"
        },
        "id": "rzH94MAMhoft",
        "outputId": "13c3c23d-e207-412b-901a-84fb0fc306ca"
      },
      "execution_count": 13,
      "outputs": [
        {
          "output_type": "stream",
          "name": "stdout",
          "text": [
            "Students who scored above 90 in any subject: [('Jane', 'Smith', 'Mathematics', 92), ('Jane', 'Smith', 'Chemistry', 91), ('Eve', 'Davis', 'Mathematics', 95), ('Eve', 'Davis', 'Physics', 92), ('Eve', 'Davis', 'Chemistry', 94), ('Jane', 'Smith', 'Mathematics', 92), ('Jane', 'Smith', 'Chemistry', 91), ('Eve', 'Davis', 'Mathematics', 95), ('Eve', 'Davis', 'Physics', 92), ('Eve', 'Davis', 'Chemistry', 94), ('Jane', 'Smith', 'Mathematics', 92), ('Jane', 'Smith', 'Chemistry', 91), ('Eve', 'Davis', 'Mathematics', 95), ('Eve', 'Davis', 'Physics', 92), ('Eve', 'Davis', 'Chemistry', 94), ('Jane', 'Smith', 'Mathematics', 92), ('Jane', 'Smith', 'Chemistry', 91), ('Eve', 'Davis', 'Mathematics', 95), ('Eve', 'Davis', 'Physics', 92), ('Eve', 'Davis', 'Chemistry', 94), ('Jane', 'Smith', 'Math', 92), ('Jane', 'Smith', 'Chemistry', 91), ('Eve', 'Davis', 'Math', 95), ('Eve', 'Davis', 'Physics', 92), ('Eve', 'Davis', 'Chemistry', 94)] \n"
          ]
        }
      ]
    },
    {
      "cell_type": "code",
      "source": [
        "students_df = pd.read_sql_query('SELECT * FROM students', connection)\n",
        "grades_df = pd.read_sql_query('SELECT * FROM grades', connection)\n"
      ],
      "metadata": {
        "id": "eiQEJTOyiGa3"
      },
      "execution_count": 14,
      "outputs": []
    },
    {
      "cell_type": "code",
      "source": [
        "cursor.execute('''\n",
        "    SELECT students.first_name, students.last_name, grades.subject, grades.grade\n",
        "    FROM students\n",
        "    JOIN grades ON students.student_id = grades.student_id\n",
        "''')\n",
        "\n",
        "data = cursor.fetchall()\n",
        "columns = ['first_name', 'last_name', 'subject', 'grade']\n",
        "df = pd.DataFrame(data, columns=columns)\n"
      ],
      "metadata": {
        "id": "Z2tZJ2JlisX_"
      },
      "execution_count": 16,
      "outputs": []
    },
    {
      "cell_type": "code",
      "source": [
        "import matplotlib.pyplot as plt\n",
        "\n",
        "avg_grades_per_student = df.groupby(['first_name', 'last_name'])['grade'].mean().reset_index()\n",
        "avg_grades_per_student['full_name'] = avg_grades_per_student['first_name'] + ' ' + avg_grades_per_student['last_name']\n",
        "plt.figure(figsize=(10, 6))\n",
        "plt.bar(avg_grades_per_student['full_name'], avg_grades_per_student['grade'], color='skyblue')\n",
        "plt.xlabel('Student Name')\n",
        "plt.ylabel('Average Grade')\n",
        "plt.title('Average Grade per Student')\n",
        "plt.show()"
      ],
      "metadata": {
        "colab": {
          "base_uri": "https://localhost:8080/",
          "height": 564
        },
        "id": "jgNLaM3MlT3t",
        "outputId": "9e9c1aec-2f41-4ea6-c4b6-14d9e7c567a8"
      },
      "execution_count": 21,
      "outputs": [
        {
          "output_type": "display_data",
          "data": {
            "text/plain": [
              "<Figure size 1000x600 with 1 Axes>"
            ],
            "image/png": "[encoded data removed]"
          },
          "metadata": {}
        }
      ]
    },
    {
      "cell_type": "code",
      "source": [
        "avg_grades_per_subject = df.groupby('subject')['grade'].mean().reset_index()\n",
        "plt.figure(figsize=(10, 6))\n",
        "plt.bar(avg_grades_per_subject['subject'], avg_grades_per_subject['grade'], color='lightgreen')\n",
        "plt.xlabel('Subject')\n",
        "plt.ylabel('Average Grade')\n",
        "plt.title('Average Grade per Subject')\n",
        "plt.show()\n",
        "\n",
        "connection.close()"
      ],
      "metadata": {
        "colab": {
          "base_uri": "https://localhost:8080/",
          "height": 564
        },
        "id": "5YxPk-jZm0Lb",
        "outputId": "924bc541-d24e-4d75-d874-cb1e0e3def57"
      },
      "execution_count": 22,
      "outputs": [
        {
          "output_type": "display_data",
          "data": {
            "text/plain": [
              "<Figure size 1000x600 with 1 Axes>"
            ],
            "image/png": "[encoded data removed]"
          },
          "metadata": {}
        }
      ]
    }
  ]
}